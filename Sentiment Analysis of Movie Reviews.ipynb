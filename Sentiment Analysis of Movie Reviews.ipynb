{
 "cells": [
  {
   "cell_type": "markdown",
   "id": "fd5e7ed5",
   "metadata": {},
   "source": [
    "![](img.gif)"
   ]
  },
  {
   "cell_type": "markdown",
   "id": "0bb7f5bd",
   "metadata": {
    "_cell_guid": "b1076dfc-b9ad-4769-8c92-a6c4dae69d19",
    "_uuid": "8f2839f25d086af736a60e9eeb907d3b93b6e0e5",
    "execution": {
     "iopub.execute_input": "2024-06-26T07:53:01.939102Z",
     "iopub.status.busy": "2024-06-26T07:53:01.938260Z",
     "iopub.status.idle": "2024-06-26T07:53:02.858317Z",
     "shell.execute_reply": "2024-06-26T07:53:02.857455Z"
    },
    "papermill": {
     "duration": 0.9358,
     "end_time": "2024-06-26T07:53:02.860767",
     "exception": false,
     "start_time": "2024-06-26T07:53:01.924967",
     "status": "completed"
    },
    "tags": []
   },
   "source": [
    "## Importing libraries"
   ]
  },
  {
   "cell_type": "code",
   "execution_count": 2,
   "id": "4bb33a66",
   "metadata": {
    "execution": {
     "iopub.execute_input": "2024-06-26T07:53:02.888086Z",
     "iopub.status.busy": "2024-06-26T07:53:02.887663Z",
     "iopub.status.idle": "2024-06-26T07:53:05.849709Z",
     "shell.execute_reply": "2024-06-26T07:53:05.848889Z"
    },
    "papermill": {
     "duration": 2.978149,
     "end_time": "2024-06-26T07:53:05.852377",
     "exception": false,
     "start_time": "2024-06-26T07:53:02.874228",
     "status": "completed"
    },
    "tags": []
   },
   "outputs": [
    {
     "name": "stderr",
     "output_type": "stream",
     "text": [
      "C:\\Users\\DELL\\anaconda3\\lib\\site-packages\\pandas\\core\\arrays\\masked.py:60: UserWarning: Pandas requires version '1.3.6' or newer of 'bottleneck' (version '1.3.5' currently installed).\n",
      "  from pandas.core import (\n",
      "C:\\Users\\DELL\\AppData\\Local\\Temp\\ipykernel_18844\\1216987746.py:2: DeprecationWarning: \n",
      "Pyarrow will become a required dependency of pandas in the next major release of pandas (pandas 3.0),\n",
      "(to allow more performant data types, such as the Arrow string type, and better interoperability with other libraries)\n",
      "but was not found to be installed on your system.\n",
      "If this would cause problems for you,\n",
      "please provide us feedback at https://github.com/pandas-dev/pandas/issues/54466\n",
      "        \n",
      "  import pandas as pd\n",
      "C:\\Users\\DELL\\anaconda3\\lib\\site-packages\\scipy\\__init__.py:155: UserWarning: A NumPy version >=1.18.5 and <1.25.0 is required for this version of SciPy (detected version 1.26.4\n",
      "  warnings.warn(f\"A NumPy version >={np_minversion} and <{np_maxversion}\"\n"
     ]
    }
   ],
   "source": [
    "import numpy as np\n",
    "import pandas as pd \n",
    "import matplotlib.pyplot as plt\n",
    "import seaborn as sns\n",
    "import re\n",
    "from nltk.tokenize import word_tokenize\n",
    "from nltk.stem import PorterStemmer\n",
    "from nltk.corpus import stopwords\n",
    "stop_words = set(stopwords.words('english'))\n",
    "from sklearn.feature_extraction.text import TfidfVectorizer\n",
    "from sklearn.model_selection import train_test_split\n",
    "from sklearn.naive_bayes import MultinomialNB\n",
    "from sklearn.svm import LinearSVC\n",
    "from sklearn.linear_model import LogisticRegression\n",
    "from sklearn.metrics import accuracy_score\n",
    "from sklearn.metrics import confusion_matrix, classification_report"
   ]
  },
  {
   "cell_type": "markdown",
   "id": "97b9699e",
   "metadata": {},
   "source": [
    "## Loading the dataset"
   ]
  },
  {
   "cell_type": "code",
   "execution_count": 3,
   "id": "1e413b55",
   "metadata": {
    "execution": {
     "iopub.execute_input": "2024-06-26T07:53:05.878104Z",
     "iopub.status.busy": "2024-06-26T07:53:05.877636Z",
     "iopub.status.idle": "2024-06-26T07:53:07.096890Z",
     "shell.execute_reply": "2024-06-26T07:53:07.095812Z"
    },
    "papermill": {
     "duration": 1.234833,
     "end_time": "2024-06-26T07:53:07.099357",
     "exception": false,
     "start_time": "2024-06-26T07:53:05.864524",
     "status": "completed"
    },
    "tags": []
   },
   "outputs": [
    {
     "data": {
      "text/html": [
       "<div>\n",
       "<style scoped>\n",
       "    .dataframe tbody tr th:only-of-type {\n",
       "        vertical-align: middle;\n",
       "    }\n",
       "\n",
       "    .dataframe tbody tr th {\n",
       "        vertical-align: top;\n",
       "    }\n",
       "\n",
       "    .dataframe thead th {\n",
       "        text-align: right;\n",
       "    }\n",
       "</style>\n",
       "<table border=\"1\" class=\"dataframe\">\n",
       "  <thead>\n",
       "    <tr style=\"text-align: right;\">\n",
       "      <th></th>\n",
       "      <th>review</th>\n",
       "      <th>sentiment</th>\n",
       "    </tr>\n",
       "  </thead>\n",
       "  <tbody>\n",
       "    <tr>\n",
       "      <th>0</th>\n",
       "      <td>One of the other reviewers has mentioned that ...</td>\n",
       "      <td>positive</td>\n",
       "    </tr>\n",
       "    <tr>\n",
       "      <th>1</th>\n",
       "      <td>A wonderful little production. &lt;br /&gt;&lt;br /&gt;The...</td>\n",
       "      <td>positive</td>\n",
       "    </tr>\n",
       "    <tr>\n",
       "      <th>2</th>\n",
       "      <td>I thought this was a wonderful way to spend ti...</td>\n",
       "      <td>positive</td>\n",
       "    </tr>\n",
       "    <tr>\n",
       "      <th>3</th>\n",
       "      <td>Basically there's a family where a little boy ...</td>\n",
       "      <td>negative</td>\n",
       "    </tr>\n",
       "    <tr>\n",
       "      <th>4</th>\n",
       "      <td>Petter Mattei's \"Love in the Time of Money\" is...</td>\n",
       "      <td>positive</td>\n",
       "    </tr>\n",
       "  </tbody>\n",
       "</table>\n",
       "</div>"
      ],
      "text/plain": [
       "                                              review sentiment\n",
       "0  One of the other reviewers has mentioned that ...  positive\n",
       "1  A wonderful little production. <br /><br />The...  positive\n",
       "2  I thought this was a wonderful way to spend ti...  positive\n",
       "3  Basically there's a family where a little boy ...  negative\n",
       "4  Petter Mattei's \"Love in the Time of Money\" is...  positive"
      ]
     },
     "execution_count": 3,
     "metadata": {},
     "output_type": "execute_result"
    }
   ],
   "source": [
    "df = pd.read_csv(\"IMDB Dataset.csv\")\n",
    "df.head()"
   ]
  },
  {
   "cell_type": "markdown",
   "id": "e2a72306",
   "metadata": {},
   "source": [
    "## Information about dataset"
   ]
  },
  {
   "cell_type": "code",
   "execution_count": 4,
   "id": "f9ec95ae",
   "metadata": {},
   "outputs": [
    {
     "data": {
      "text/plain": [
       "(50000, 2)"
      ]
     },
     "execution_count": 4,
     "metadata": {},
     "output_type": "execute_result"
    }
   ],
   "source": [
    "df.shape"
   ]
  },
  {
   "cell_type": "code",
   "execution_count": 5,
   "id": "80886fb9",
   "metadata": {
    "execution": {
     "iopub.execute_input": "2024-06-26T07:53:07.226744Z",
     "iopub.status.busy": "2024-06-26T07:53:07.226484Z",
     "iopub.status.idle": "2024-06-26T07:53:07.246310Z",
     "shell.execute_reply": "2024-06-26T07:53:07.245448Z"
    },
    "papermill": {
     "duration": 0.034484,
     "end_time": "2024-06-26T07:53:07.248165",
     "exception": false,
     "start_time": "2024-06-26T07:53:07.213681",
     "status": "completed"
    },
    "tags": []
   },
   "outputs": [
    {
     "data": {
      "text/plain": [
       "sentiment\n",
       "positive    25000\n",
       "negative    25000\n",
       "Name: count, dtype: int64"
      ]
     },
     "execution_count": 5,
     "metadata": {},
     "output_type": "execute_result"
    }
   ],
   "source": [
    "df['sentiment'].value_counts()"
   ]
  },
  {
   "cell_type": "code",
   "execution_count": 6,
   "id": "9cabf5b9",
   "metadata": {},
   "outputs": [
    {
     "data": {
      "text/plain": [
       "review       0\n",
       "sentiment    0\n",
       "dtype: int64"
      ]
     },
     "execution_count": 6,
     "metadata": {},
     "output_type": "execute_result"
    }
   ],
   "source": [
    "df.isnull().sum()"
   ]
  },
  {
   "cell_type": "code",
   "execution_count": 7,
   "id": "65c26466",
   "metadata": {},
   "outputs": [
    {
     "data": {
      "text/plain": [
       "418"
      ]
     },
     "execution_count": 7,
     "metadata": {},
     "output_type": "execute_result"
    }
   ],
   "source": [
    "df.duplicated().sum()"
   ]
  },
  {
   "cell_type": "code",
   "execution_count": 8,
   "id": "be79b141",
   "metadata": {},
   "outputs": [],
   "source": [
    "df = df.drop_duplicates()"
   ]
  },
  {
   "cell_type": "code",
   "execution_count": 9,
   "id": "cbbbc9eb",
   "metadata": {},
   "outputs": [
    {
     "data": {
      "text/plain": [
       "0"
      ]
     },
     "execution_count": 9,
     "metadata": {},
     "output_type": "execute_result"
    }
   ],
   "source": [
    "df.duplicated().sum()"
   ]
  },
  {
   "cell_type": "code",
   "execution_count": 10,
   "id": "4022439d",
   "metadata": {},
   "outputs": [
    {
     "data": {
      "text/html": [
       "<div>\n",
       "<style scoped>\n",
       "    .dataframe tbody tr th:only-of-type {\n",
       "        vertical-align: middle;\n",
       "    }\n",
       "\n",
       "    .dataframe tbody tr th {\n",
       "        vertical-align: top;\n",
       "    }\n",
       "\n",
       "    .dataframe thead th {\n",
       "        text-align: right;\n",
       "    }\n",
       "</style>\n",
       "<table border=\"1\" class=\"dataframe\">\n",
       "  <thead>\n",
       "    <tr style=\"text-align: right;\">\n",
       "      <th></th>\n",
       "      <th>review</th>\n",
       "      <th>sentiment</th>\n",
       "    </tr>\n",
       "  </thead>\n",
       "  <tbody>\n",
       "    <tr>\n",
       "      <th>count</th>\n",
       "      <td>49582</td>\n",
       "      <td>49582</td>\n",
       "    </tr>\n",
       "    <tr>\n",
       "      <th>unique</th>\n",
       "      <td>49582</td>\n",
       "      <td>2</td>\n",
       "    </tr>\n",
       "    <tr>\n",
       "      <th>top</th>\n",
       "      <td>One of the other reviewers has mentioned that ...</td>\n",
       "      <td>positive</td>\n",
       "    </tr>\n",
       "    <tr>\n",
       "      <th>freq</th>\n",
       "      <td>1</td>\n",
       "      <td>24884</td>\n",
       "    </tr>\n",
       "  </tbody>\n",
       "</table>\n",
       "</div>"
      ],
      "text/plain": [
       "                                                   review sentiment\n",
       "count                                               49582     49582\n",
       "unique                                              49582         2\n",
       "top     One of the other reviewers has mentioned that ...  positive\n",
       "freq                                                    1     24884"
      ]
     },
     "execution_count": 10,
     "metadata": {},
     "output_type": "execute_result"
    }
   ],
   "source": [
    "df.describe()"
   ]
  },
  {
   "cell_type": "markdown",
   "id": "0c002edf",
   "metadata": {},
   "source": [
    "## Visualizations"
   ]
  },
  {
   "cell_type": "code",
   "execution_count": 11,
   "id": "1c575fd2",
   "metadata": {
    "execution": {
     "iopub.execute_input": "2024-06-26T07:53:07.273587Z",
     "iopub.status.busy": "2024-06-26T07:53:07.273324Z",
     "iopub.status.idle": "2024-06-26T07:53:07.581312Z",
     "shell.execute_reply": "2024-06-26T07:53:07.580372Z"
    },
    "papermill": {
     "duration": 0.322718,
     "end_time": "2024-06-26T07:53:07.583431",
     "exception": false,
     "start_time": "2024-06-26T07:53:07.260713",
     "status": "completed"
    },
    "tags": []
   },
   "outputs": [
    {
     "data": {
      "image/png": "[encoded data removed]",
      "text/plain": [
       "<Figure size 640x480 with 1 Axes>"
      ]
     },
     "metadata": {},
     "output_type": "display_data"
    }
   ],
   "source": [
    "sns.countplot(data=df, x='sentiment', palette='viridis')\n",
    "plt.title('count sentiment review')\n",
    "plt.xlabel('sentiment')\n",
    "plt.ylabel('Count')\n",
    "plt.show()"
   ]
  },
  {
   "cell_type": "code",
   "execution_count": 51,
   "id": "3448c7f3",
   "metadata": {},
   "outputs": [
    {
     "data": {
      "image/png": "[encoded data removed]",
      "text/plain": [
       "<Figure size 800x600 with 1 Axes>"
      ]
     },
     "metadata": {},
     "output_type": "display_data"
    }
   ],
   "source": [
    "sentiment_counts = df['sentiment'].value_counts()\n",
    "colors = ['#636efb', '#01008c']\n",
    "plt.figure(figsize=(8, 6))\n",
    "plt.pie(sentiment_counts, labels=['Positive', 'Negative'],\n",
    "        autopct='%1.1f%%', startangle=140, explode=(0.1, 0), shadow=True)\n",
    "plt.show()"
   ]
  },
  {
   "cell_type": "markdown",
   "id": "2a67f0b1",
   "metadata": {},
   "source": [
    "Both graphs show the data is balanced"
   ]
  },
  {
   "cell_type": "markdown",
   "id": "4a634f22",
   "metadata": {},
   "source": [
    "## Pre-processing"
   ]
  },
  {
   "cell_type": "markdown",
   "id": "e9e08887",
   "metadata": {},
   "source": [
    "### Lowercasing"
   ]
  },
  {
   "cell_type": "code",
   "execution_count": 13,
   "id": "e117cf59",
   "metadata": {
    "execution": {
     "iopub.execute_input": "2024-06-26T07:53:08.522670Z",
     "iopub.status.busy": "2024-06-26T07:53:08.522396Z",
     "iopub.status.idle": "2024-06-26T07:53:08.702703Z",
     "shell.execute_reply": "2024-06-26T07:53:08.701948Z"
    },
    "papermill": {
     "duration": 0.197011,
     "end_time": "2024-06-26T07:53:08.704962",
     "exception": false,
     "start_time": "2024-06-26T07:53:08.507951",
     "status": "completed"
    },
    "tags": []
   },
   "outputs": [
    {
     "data": {
      "text/html": [
       "<div>\n",
       "<style scoped>\n",
       "    .dataframe tbody tr th:only-of-type {\n",
       "        vertical-align: middle;\n",
       "    }\n",
       "\n",
       "    .dataframe tbody tr th {\n",
       "        vertical-align: top;\n",
       "    }\n",
       "\n",
       "    .dataframe thead th {\n",
       "        text-align: right;\n",
       "    }\n",
       "</style>\n",
       "<table border=\"1\" class=\"dataframe\">\n",
       "  <thead>\n",
       "    <tr style=\"text-align: right;\">\n",
       "      <th></th>\n",
       "      <th>review</th>\n",
       "      <th>sentiment</th>\n",
       "    </tr>\n",
       "  </thead>\n",
       "  <tbody>\n",
       "    <tr>\n",
       "      <th>0</th>\n",
       "      <td>one of the other reviewers has mentioned that ...</td>\n",
       "      <td>positive</td>\n",
       "    </tr>\n",
       "    <tr>\n",
       "      <th>1</th>\n",
       "      <td>a wonderful little production. &lt;br /&gt;&lt;br /&gt;the...</td>\n",
       "      <td>positive</td>\n",
       "    </tr>\n",
       "    <tr>\n",
       "      <th>2</th>\n",
       "      <td>i thought this was a wonderful way to spend ti...</td>\n",
       "      <td>positive</td>\n",
       "    </tr>\n",
       "    <tr>\n",
       "      <th>3</th>\n",
       "      <td>basically there's a family where a little boy ...</td>\n",
       "      <td>negative</td>\n",
       "    </tr>\n",
       "    <tr>\n",
       "      <th>4</th>\n",
       "      <td>petter mattei's \"love in the time of money\" is...</td>\n",
       "      <td>positive</td>\n",
       "    </tr>\n",
       "  </tbody>\n",
       "</table>\n",
       "</div>"
      ],
      "text/plain": [
       "                                              review sentiment\n",
       "0  one of the other reviewers has mentioned that ...  positive\n",
       "1  a wonderful little production. <br /><br />the...  positive\n",
       "2  i thought this was a wonderful way to spend ti...  positive\n",
       "3  basically there's a family where a little boy ...  negative\n",
       "4  petter mattei's \"love in the time of money\" is...  positive"
      ]
     },
     "execution_count": 13,
     "metadata": {},
     "output_type": "execute_result"
    }
   ],
   "source": [
    "df['review'] = df['review'].str.lower()\n",
    "df.head()"
   ]
  },
  {
   "cell_type": "markdown",
   "id": "bdd2fc0e",
   "metadata": {},
   "source": [
    "### Removing HTML tags"
   ]
  },
  {
   "cell_type": "code",
   "execution_count": 14,
   "id": "231222de",
   "metadata": {
    "execution": {
     "iopub.execute_input": "2024-06-26T07:53:08.804520Z",
     "iopub.status.busy": "2024-06-26T07:53:08.804228Z",
     "iopub.status.idle": "2024-06-26T07:53:08.808362Z",
     "shell.execute_reply": "2024-06-26T07:53:08.807637Z"
    },
    "papermill": {
     "duration": 0.020941,
     "end_time": "2024-06-26T07:53:08.810366",
     "exception": false,
     "start_time": "2024-06-26T07:53:08.789425",
     "status": "completed"
    },
    "tags": []
   },
   "outputs": [],
   "source": [
    "def remove_html_tag(text):\n",
    "    pattern = re.compile(r'<[^>]+>')\n",
    "    return pattern.sub(r'', text)"
   ]
  },
  {
   "cell_type": "code",
   "execution_count": 15,
   "id": "232a50d6",
   "metadata": {
    "execution": {
     "iopub.execute_input": "2024-06-26T07:53:08.883193Z",
     "iopub.status.busy": "2024-06-26T07:53:08.882838Z",
     "iopub.status.idle": "2024-06-26T07:53:09.087985Z",
     "shell.execute_reply": "2024-06-26T07:53:09.087200Z"
    },
    "papermill": {
     "duration": 0.222164,
     "end_time": "2024-06-26T07:53:09.090244",
     "exception": false,
     "start_time": "2024-06-26T07:53:08.868080",
     "status": "completed"
    },
    "tags": []
   },
   "outputs": [],
   "source": [
    "df['review'] = df['review'].apply(remove_html_tag)"
   ]
  },
  {
   "cell_type": "code",
   "execution_count": 16,
   "id": "ccf84eff",
   "metadata": {
    "execution": {
     "iopub.execute_input": "2024-06-26T07:53:09.119581Z",
     "iopub.status.busy": "2024-06-26T07:53:09.118793Z",
     "iopub.status.idle": "2024-06-26T07:53:09.128059Z",
     "shell.execute_reply": "2024-06-26T07:53:09.127225Z"
    },
    "papermill": {
     "duration": 0.025568,
     "end_time": "2024-06-26T07:53:09.129951",
     "exception": false,
     "start_time": "2024-06-26T07:53:09.104383",
     "status": "completed"
    },
    "tags": []
   },
   "outputs": [
    {
     "data": {
      "text/html": [
       "<div>\n",
       "<style scoped>\n",
       "    .dataframe tbody tr th:only-of-type {\n",
       "        vertical-align: middle;\n",
       "    }\n",
       "\n",
       "    .dataframe tbody tr th {\n",
       "        vertical-align: top;\n",
       "    }\n",
       "\n",
       "    .dataframe thead th {\n",
       "        text-align: right;\n",
       "    }\n",
       "</style>\n",
       "<table border=\"1\" class=\"dataframe\">\n",
       "  <thead>\n",
       "    <tr style=\"text-align: right;\">\n",
       "      <th></th>\n",
       "      <th>review</th>\n",
       "      <th>sentiment</th>\n",
       "    </tr>\n",
       "  </thead>\n",
       "  <tbody>\n",
       "    <tr>\n",
       "      <th>0</th>\n",
       "      <td>one of the other reviewers has mentioned that ...</td>\n",
       "      <td>positive</td>\n",
       "    </tr>\n",
       "    <tr>\n",
       "      <th>1</th>\n",
       "      <td>a wonderful little production. the filming tec...</td>\n",
       "      <td>positive</td>\n",
       "    </tr>\n",
       "    <tr>\n",
       "      <th>2</th>\n",
       "      <td>i thought this was a wonderful way to spend ti...</td>\n",
       "      <td>positive</td>\n",
       "    </tr>\n",
       "    <tr>\n",
       "      <th>3</th>\n",
       "      <td>basically there's a family where a little boy ...</td>\n",
       "      <td>negative</td>\n",
       "    </tr>\n",
       "    <tr>\n",
       "      <th>4</th>\n",
       "      <td>petter mattei's \"love in the time of money\" is...</td>\n",
       "      <td>positive</td>\n",
       "    </tr>\n",
       "  </tbody>\n",
       "</table>\n",
       "</div>"
      ],
      "text/plain": [
       "                                              review sentiment\n",
       "0  one of the other reviewers has mentioned that ...  positive\n",
       "1  a wonderful little production. the filming tec...  positive\n",
       "2  i thought this was a wonderful way to spend ti...  positive\n",
       "3  basically there's a family where a little boy ...  negative\n",
       "4  petter mattei's \"love in the time of money\" is...  positive"
      ]
     },
     "execution_count": 16,
     "metadata": {},
     "output_type": "execute_result"
    }
   ],
   "source": [
    "df.head()"
   ]
  },
  {
   "cell_type": "markdown",
   "id": "954baf8b",
   "metadata": {},
   "source": [
    "### Removing punctuation"
   ]
  },
  {
   "cell_type": "code",
   "execution_count": 17,
   "id": "a0f9c98a",
   "metadata": {
    "execution": {
     "iopub.execute_input": "2024-06-26T07:53:09.186921Z",
     "iopub.status.busy": "2024-06-26T07:53:09.186448Z",
     "iopub.status.idle": "2024-06-26T07:53:09.190843Z",
     "shell.execute_reply": "2024-06-26T07:53:09.189939Z"
    },
    "papermill": {
     "duration": 0.02125,
     "end_time": "2024-06-26T07:53:09.192720",
     "exception": false,
     "start_time": "2024-06-26T07:53:09.171470",
     "status": "completed"
    },
    "tags": []
   },
   "outputs": [],
   "source": [
    "import string\n",
    "def remove_pun(text):\n",
    "    translator = str.maketrans('', '', string.punctuation)\n",
    "    return text.translate(translator)"
   ]
  },
  {
   "cell_type": "code",
   "execution_count": 18,
   "id": "34ddbf26",
   "metadata": {
    "execution": {
     "iopub.execute_input": "2024-06-26T07:53:09.222138Z",
     "iopub.status.busy": "2024-06-26T07:53:09.221841Z",
     "iopub.status.idle": "2024-06-26T07:53:10.423713Z",
     "shell.execute_reply": "2024-06-26T07:53:10.422732Z"
    },
    "papermill": {
     "duration": 1.219129,
     "end_time": "2024-06-26T07:53:10.426046",
     "exception": false,
     "start_time": "2024-06-26T07:53:09.206917",
     "status": "completed"
    },
    "tags": []
   },
   "outputs": [],
   "source": [
    "df['review'] = df['review'].apply(remove_pun)"
   ]
  },
  {
   "cell_type": "code",
   "execution_count": 19,
   "id": "2ce83355",
   "metadata": {
    "execution": {
     "iopub.execute_input": "2024-06-26T07:53:10.455776Z",
     "iopub.status.busy": "2024-06-26T07:53:10.455500Z",
     "iopub.status.idle": "2024-06-26T07:53:10.464727Z",
     "shell.execute_reply": "2024-06-26T07:53:10.463809Z"
    },
    "papermill": {
     "duration": 0.026261,
     "end_time": "2024-06-26T07:53:10.466672",
     "exception": false,
     "start_time": "2024-06-26T07:53:10.440411",
     "status": "completed"
    },
    "tags": []
   },
   "outputs": [
    {
     "data": {
      "text/html": [
       "<div>\n",
       "<style scoped>\n",
       "    .dataframe tbody tr th:only-of-type {\n",
       "        vertical-align: middle;\n",
       "    }\n",
       "\n",
       "    .dataframe tbody tr th {\n",
       "        vertical-align: top;\n",
       "    }\n",
       "\n",
       "    .dataframe thead th {\n",
       "        text-align: right;\n",
       "    }\n",
       "</style>\n",
       "<table border=\"1\" class=\"dataframe\">\n",
       "  <thead>\n",
       "    <tr style=\"text-align: right;\">\n",
       "      <th></th>\n",
       "      <th>review</th>\n",
       "      <th>sentiment</th>\n",
       "    </tr>\n",
       "  </thead>\n",
       "  <tbody>\n",
       "    <tr>\n",
       "      <th>0</th>\n",
       "      <td>one of the other reviewers has mentioned that ...</td>\n",
       "      <td>positive</td>\n",
       "    </tr>\n",
       "    <tr>\n",
       "      <th>1</th>\n",
       "      <td>a wonderful little production the filming tech...</td>\n",
       "      <td>positive</td>\n",
       "    </tr>\n",
       "    <tr>\n",
       "      <th>2</th>\n",
       "      <td>i thought this was a wonderful way to spend ti...</td>\n",
       "      <td>positive</td>\n",
       "    </tr>\n",
       "    <tr>\n",
       "      <th>3</th>\n",
       "      <td>basically theres a family where a little boy j...</td>\n",
       "      <td>negative</td>\n",
       "    </tr>\n",
       "    <tr>\n",
       "      <th>4</th>\n",
       "      <td>petter matteis love in the time of money is a ...</td>\n",
       "      <td>positive</td>\n",
       "    </tr>\n",
       "  </tbody>\n",
       "</table>\n",
       "</div>"
      ],
      "text/plain": [
       "                                              review sentiment\n",
       "0  one of the other reviewers has mentioned that ...  positive\n",
       "1  a wonderful little production the filming tech...  positive\n",
       "2  i thought this was a wonderful way to spend ti...  positive\n",
       "3  basically theres a family where a little boy j...  negative\n",
       "4  petter matteis love in the time of money is a ...  positive"
      ]
     },
     "execution_count": 19,
     "metadata": {},
     "output_type": "execute_result"
    }
   ],
   "source": [
    "df.head()"
   ]
  },
  {
   "cell_type": "code",
   "execution_count": 20,
   "id": "cfbecec1",
   "metadata": {
    "execution": {
     "iopub.execute_input": "2024-06-26T07:53:10.531148Z",
     "iopub.status.busy": "2024-06-26T07:53:10.530830Z",
     "iopub.status.idle": "2024-06-26T07:53:10.536387Z",
     "shell.execute_reply": "2024-06-26T07:53:10.535549Z"
    },
    "papermill": {
     "duration": 0.022432,
     "end_time": "2024-06-26T07:53:10.538231",
     "exception": false,
     "start_time": "2024-06-26T07:53:10.515799",
     "status": "completed"
    },
    "tags": []
   },
   "outputs": [],
   "source": [
    "def data_processing(text):\n",
    "    text= text.lower()\n",
    "    text = re.sub('<br />', '', text)\n",
    "    text = re.sub(r\"https\\S+|www\\S+|http\\S+\", '', text, flags = re.MULTILINE)\n",
    "    text = re.sub(r'\\@w+|\\#', '', text)\n",
    "    text = re.sub(r'[^\\w\\s]', '', text)\n",
    "    text_tokens = word_tokenize(text)\n",
    "    filtered_text = [w for w in text_tokens if not w in stop_words]\n",
    "    return \" \".join(filtered_text)"
   ]
  },
  {
   "cell_type": "code",
   "execution_count": 21,
   "id": "c1253ee1",
   "metadata": {
    "execution": {
     "iopub.execute_input": "2024-06-26T07:53:10.567513Z",
     "iopub.status.busy": "2024-06-26T07:53:10.567241Z",
     "iopub.status.idle": "2024-06-26T07:54:40.999358Z",
     "shell.execute_reply": "2024-06-26T07:54:40.998278Z"
    },
    "papermill": {
     "duration": 90.449321,
     "end_time": "2024-06-26T07:54:41.001738",
     "exception": false,
     "start_time": "2024-06-26T07:53:10.552417",
     "status": "completed"
    },
    "tags": []
   },
   "outputs": [],
   "source": [
    "df['review'] = df['review'].apply(data_processing)"
   ]
  },
  {
   "cell_type": "code",
   "execution_count": 22,
   "id": "74ad3760",
   "metadata": {
    "execution": {
     "iopub.execute_input": "2024-06-26T07:54:41.032191Z",
     "iopub.status.busy": "2024-06-26T07:54:41.031473Z",
     "iopub.status.idle": "2024-06-26T07:54:41.040840Z",
     "shell.execute_reply": "2024-06-26T07:54:41.039887Z"
    },
    "papermill": {
     "duration": 0.026421,
     "end_time": "2024-06-26T07:54:41.042764",
     "exception": false,
     "start_time": "2024-06-26T07:54:41.016343",
     "status": "completed"
    },
    "tags": []
   },
   "outputs": [
    {
     "data": {
      "text/html": [
       "<div>\n",
       "<style scoped>\n",
       "    .dataframe tbody tr th:only-of-type {\n",
       "        vertical-align: middle;\n",
       "    }\n",
       "\n",
       "    .dataframe tbody tr th {\n",
       "        vertical-align: top;\n",
       "    }\n",
       "\n",
       "    .dataframe thead th {\n",
       "        text-align: right;\n",
       "    }\n",
       "</style>\n",
       "<table border=\"1\" class=\"dataframe\">\n",
       "  <thead>\n",
       "    <tr style=\"text-align: right;\">\n",
       "      <th></th>\n",
       "      <th>review</th>\n",
       "      <th>sentiment</th>\n",
       "    </tr>\n",
       "  </thead>\n",
       "  <tbody>\n",
       "    <tr>\n",
       "      <th>0</th>\n",
       "      <td>one reviewers mentioned watching 1 oz episode ...</td>\n",
       "      <td>positive</td>\n",
       "    </tr>\n",
       "    <tr>\n",
       "      <th>1</th>\n",
       "      <td>wonderful little production filming technique ...</td>\n",
       "      <td>positive</td>\n",
       "    </tr>\n",
       "    <tr>\n",
       "      <th>2</th>\n",
       "      <td>thought wonderful way spend time hot summer we...</td>\n",
       "      <td>positive</td>\n",
       "    </tr>\n",
       "    <tr>\n",
       "      <th>3</th>\n",
       "      <td>basically theres family little boy jake thinks...</td>\n",
       "      <td>negative</td>\n",
       "    </tr>\n",
       "    <tr>\n",
       "      <th>4</th>\n",
       "      <td>petter matteis love time money visually stunni...</td>\n",
       "      <td>positive</td>\n",
       "    </tr>\n",
       "  </tbody>\n",
       "</table>\n",
       "</div>"
      ],
      "text/plain": [
       "                                              review sentiment\n",
       "0  one reviewers mentioned watching 1 oz episode ...  positive\n",
       "1  wonderful little production filming technique ...  positive\n",
       "2  thought wonderful way spend time hot summer we...  positive\n",
       "3  basically theres family little boy jake thinks...  negative\n",
       "4  petter matteis love time money visually stunni...  positive"
      ]
     },
     "execution_count": 22,
     "metadata": {},
     "output_type": "execute_result"
    }
   ],
   "source": [
    "df.head()"
   ]
  },
  {
   "cell_type": "code",
   "execution_count": 23,
   "id": "635cedf2",
   "metadata": {
    "execution": {
     "iopub.execute_input": "2024-06-26T07:54:41.072304Z",
     "iopub.status.busy": "2024-06-26T07:54:41.072030Z",
     "iopub.status.idle": "2024-06-26T07:54:41.076146Z",
     "shell.execute_reply": "2024-06-26T07:54:41.075369Z"
    },
    "papermill": {
     "duration": 0.02107,
     "end_time": "2024-06-26T07:54:41.078033",
     "exception": false,
     "start_time": "2024-06-26T07:54:41.056963",
     "status": "completed"
    },
    "tags": []
   },
   "outputs": [],
   "source": [
    "stemmer = PorterStemmer()\n",
    "def stemming(data):\n",
    "    text = [stemmer.stem(word) for word in data]\n",
    "    return data"
   ]
  },
  {
   "cell_type": "code",
   "execution_count": 24,
   "id": "28c425da",
   "metadata": {
    "execution": {
     "iopub.execute_input": "2024-06-26T07:54:41.107821Z",
     "iopub.status.busy": "2024-06-26T07:54:41.107555Z",
     "iopub.status.idle": "2024-06-26T07:55:11.185320Z",
     "shell.execute_reply": "2024-06-26T07:55:11.184403Z"
    },
    "papermill": {
     "duration": 30.095361,
     "end_time": "2024-06-26T07:55:11.187642",
     "exception": false,
     "start_time": "2024-06-26T07:54:41.092281",
     "status": "completed"
    },
    "tags": []
   },
   "outputs": [],
   "source": [
    "df['review'] = df['review'].apply(stemming)"
   ]
  },
  {
   "cell_type": "code",
   "execution_count": 25,
   "id": "0f3ce00f",
   "metadata": {
    "execution": {
     "iopub.execute_input": "2024-06-26T07:55:11.217961Z",
     "iopub.status.busy": "2024-06-26T07:55:11.217640Z",
     "iopub.status.idle": "2024-06-26T07:55:11.226220Z",
     "shell.execute_reply": "2024-06-26T07:55:11.225424Z"
    },
    "papermill": {
     "duration": 0.025388,
     "end_time": "2024-06-26T07:55:11.228129",
     "exception": false,
     "start_time": "2024-06-26T07:55:11.202741",
     "status": "completed"
    },
    "tags": []
   },
   "outputs": [
    {
     "data": {
      "text/html": [
       "<div>\n",
       "<style scoped>\n",
       "    .dataframe tbody tr th:only-of-type {\n",
       "        vertical-align: middle;\n",
       "    }\n",
       "\n",
       "    .dataframe tbody tr th {\n",
       "        vertical-align: top;\n",
       "    }\n",
       "\n",
       "    .dataframe thead th {\n",
       "        text-align: right;\n",
       "    }\n",
       "</style>\n",
       "<table border=\"1\" class=\"dataframe\">\n",
       "  <thead>\n",
       "    <tr style=\"text-align: right;\">\n",
       "      <th></th>\n",
       "      <th>review</th>\n",
       "      <th>sentiment</th>\n",
       "    </tr>\n",
       "  </thead>\n",
       "  <tbody>\n",
       "    <tr>\n",
       "      <th>0</th>\n",
       "      <td>one reviewers mentioned watching 1 oz episode ...</td>\n",
       "      <td>positive</td>\n",
       "    </tr>\n",
       "    <tr>\n",
       "      <th>1</th>\n",
       "      <td>wonderful little production filming technique ...</td>\n",
       "      <td>positive</td>\n",
       "    </tr>\n",
       "    <tr>\n",
       "      <th>2</th>\n",
       "      <td>thought wonderful way spend time hot summer we...</td>\n",
       "      <td>positive</td>\n",
       "    </tr>\n",
       "    <tr>\n",
       "      <th>3</th>\n",
       "      <td>basically theres family little boy jake thinks...</td>\n",
       "      <td>negative</td>\n",
       "    </tr>\n",
       "    <tr>\n",
       "      <th>4</th>\n",
       "      <td>petter matteis love time money visually stunni...</td>\n",
       "      <td>positive</td>\n",
       "    </tr>\n",
       "  </tbody>\n",
       "</table>\n",
       "</div>"
      ],
      "text/plain": [
       "                                              review sentiment\n",
       "0  one reviewers mentioned watching 1 oz episode ...  positive\n",
       "1  wonderful little production filming technique ...  positive\n",
       "2  thought wonderful way spend time hot summer we...  positive\n",
       "3  basically theres family little boy jake thinks...  negative\n",
       "4  petter matteis love time money visually stunni...  positive"
      ]
     },
     "execution_count": 25,
     "metadata": {},
     "output_type": "execute_result"
    }
   ],
   "source": [
    "df.head()"
   ]
  },
  {
   "cell_type": "code",
   "execution_count": 26,
   "id": "fee87c5a",
   "metadata": {
    "execution": {
     "iopub.execute_input": "2024-06-26T07:55:11.258298Z",
     "iopub.status.busy": "2024-06-26T07:55:11.258038Z",
     "iopub.status.idle": "2024-06-26T07:55:11.277298Z",
     "shell.execute_reply": "2024-06-26T07:55:11.276381Z"
    },
    "papermill": {
     "duration": 0.036071,
     "end_time": "2024-06-26T07:55:11.279127",
     "exception": false,
     "start_time": "2024-06-26T07:55:11.243056",
     "status": "completed"
    },
    "tags": []
   },
   "outputs": [
    {
     "data": {
      "text/html": [
       "<div>\n",
       "<style scoped>\n",
       "    .dataframe tbody tr th:only-of-type {\n",
       "        vertical-align: middle;\n",
       "    }\n",
       "\n",
       "    .dataframe tbody tr th {\n",
       "        vertical-align: top;\n",
       "    }\n",
       "\n",
       "    .dataframe thead th {\n",
       "        text-align: right;\n",
       "    }\n",
       "</style>\n",
       "<table border=\"1\" class=\"dataframe\">\n",
       "  <thead>\n",
       "    <tr style=\"text-align: right;\">\n",
       "      <th></th>\n",
       "      <th>review</th>\n",
       "      <th>sentiment</th>\n",
       "    </tr>\n",
       "  </thead>\n",
       "  <tbody>\n",
       "  </tbody>\n",
       "</table>\n",
       "</div>"
      ],
      "text/plain": [
       "Empty DataFrame\n",
       "Columns: [review, sentiment]\n",
       "Index: []"
      ]
     },
     "execution_count": 26,
     "metadata": {},
     "output_type": "execute_result"
    }
   ],
   "source": [
    "pos_reviews =  df[df.sentiment == 1]\n",
    "pos_reviews.head()"
   ]
  },
  {
   "cell_type": "code",
   "execution_count": 27,
   "id": "49d9fac2",
   "metadata": {
    "execution": {
     "iopub.execute_input": "2024-06-26T07:55:11.309712Z",
     "iopub.status.busy": "2024-06-26T07:55:11.309439Z",
     "iopub.status.idle": "2024-06-26T07:55:11.352253Z",
     "shell.execute_reply": "2024-06-26T07:55:11.351244Z"
    },
    "papermill": {
     "duration": 0.0606,
     "end_time": "2024-06-26T07:55:11.354371",
     "exception": false,
     "start_time": "2024-06-26T07:55:11.293771",
     "status": "completed"
    },
    "tags": []
   },
   "outputs": [
    {
     "name": "stderr",
     "output_type": "stream",
     "text": [
      "C:\\Users\\DELL\\AppData\\Local\\Temp\\ipykernel_18844\\159144519.py:1: FutureWarning: A value is trying to be set on a copy of a DataFrame or Series through chained assignment using an inplace method.\n",
      "The behavior will change in pandas 3.0. This inplace method will never work because the intermediate object on which we are setting values always behaves as a copy.\n",
      "\n",
      "For example, when doing 'df[col].method(value, inplace=True)', try using 'df.method({col: value}, inplace=True)' or df[col] = df[col].method(value) instead, to perform the operation inplace on the original object.\n",
      "\n",
      "\n",
      "  df.sentiment.replace(\"positive\", 1, inplace=True)\n",
      "C:\\Users\\DELL\\AppData\\Local\\Temp\\ipykernel_18844\\159144519.py:2: FutureWarning: A value is trying to be set on a copy of a DataFrame or Series through chained assignment using an inplace method.\n",
      "The behavior will change in pandas 3.0. This inplace method will never work because the intermediate object on which we are setting values always behaves as a copy.\n",
      "\n",
      "For example, when doing 'df[col].method(value, inplace=True)', try using 'df.method({col: value}, inplace=True)' or df[col] = df[col].method(value) instead, to perform the operation inplace on the original object.\n",
      "\n",
      "\n",
      "  df.sentiment.replace(\"negative\", 0, inplace=True)\n",
      "C:\\Users\\DELL\\AppData\\Local\\Temp\\ipykernel_18844\\159144519.py:2: FutureWarning: Downcasting behavior in `replace` is deprecated and will be removed in a future version. To retain the old behavior, explicitly call `result.infer_objects(copy=False)`. To opt-in to the future behavior, set `pd.set_option('future.no_silent_downcasting', True)`\n",
      "  df.sentiment.replace(\"negative\", 0, inplace=True)\n"
     ]
    }
   ],
   "source": [
    "df.sentiment.replace(\"positive\", 1, inplace=True)\n",
    "df.sentiment.replace(\"negative\", 0, inplace=True)"
   ]
  },
  {
   "cell_type": "code",
   "execution_count": 28,
   "id": "8350de2d",
   "metadata": {
    "execution": {
     "iopub.execute_input": "2024-06-26T07:55:11.384917Z",
     "iopub.status.busy": "2024-06-26T07:55:11.384623Z",
     "iopub.status.idle": "2024-06-26T07:55:11.393023Z",
     "shell.execute_reply": "2024-06-26T07:55:11.392229Z"
    },
    "papermill": {
     "duration": 0.026013,
     "end_time": "2024-06-26T07:55:11.395081",
     "exception": false,
     "start_time": "2024-06-26T07:55:11.369068",
     "status": "completed"
    },
    "scrolled": true,
    "tags": []
   },
   "outputs": [
    {
     "data": {
      "text/html": [
       "<div>\n",
       "<style scoped>\n",
       "    .dataframe tbody tr th:only-of-type {\n",
       "        vertical-align: middle;\n",
       "    }\n",
       "\n",
       "    .dataframe tbody tr th {\n",
       "        vertical-align: top;\n",
       "    }\n",
       "\n",
       "    .dataframe thead th {\n",
       "        text-align: right;\n",
       "    }\n",
       "</style>\n",
       "<table border=\"1\" class=\"dataframe\">\n",
       "  <thead>\n",
       "    <tr style=\"text-align: right;\">\n",
       "      <th></th>\n",
       "      <th>review</th>\n",
       "      <th>sentiment</th>\n",
       "    </tr>\n",
       "  </thead>\n",
       "  <tbody>\n",
       "    <tr>\n",
       "      <th>0</th>\n",
       "      <td>one reviewers mentioned watching 1 oz episode ...</td>\n",
       "      <td>1</td>\n",
       "    </tr>\n",
       "    <tr>\n",
       "      <th>1</th>\n",
       "      <td>wonderful little production filming technique ...</td>\n",
       "      <td>1</td>\n",
       "    </tr>\n",
       "    <tr>\n",
       "      <th>2</th>\n",
       "      <td>thought wonderful way spend time hot summer we...</td>\n",
       "      <td>1</td>\n",
       "    </tr>\n",
       "    <tr>\n",
       "      <th>3</th>\n",
       "      <td>basically theres family little boy jake thinks...</td>\n",
       "      <td>0</td>\n",
       "    </tr>\n",
       "    <tr>\n",
       "      <th>4</th>\n",
       "      <td>petter matteis love time money visually stunni...</td>\n",
       "      <td>1</td>\n",
       "    </tr>\n",
       "  </tbody>\n",
       "</table>\n",
       "</div>"
      ],
      "text/plain": [
       "                                              review  sentiment\n",
       "0  one reviewers mentioned watching 1 oz episode ...          1\n",
       "1  wonderful little production filming technique ...          1\n",
       "2  thought wonderful way spend time hot summer we...          1\n",
       "3  basically theres family little boy jake thinks...          0\n",
       "4  petter matteis love time money visually stunni...          1"
      ]
     },
     "execution_count": 28,
     "metadata": {},
     "output_type": "execute_result"
    }
   ],
   "source": [
    "df.head()"
   ]
  },
  {
   "cell_type": "markdown",
   "id": "93f56c61",
   "metadata": {},
   "source": [
    "## Model building"
   ]
  },
  {
   "cell_type": "markdown",
   "id": "c046608c",
   "metadata": {},
   "source": [
    "### Train-test split"
   ]
  },
  {
   "cell_type": "code",
   "execution_count": 29,
   "id": "cedcf8ef",
   "metadata": {
    "execution": {
     "iopub.execute_input": "2024-06-26T07:55:11.485851Z",
     "iopub.status.busy": "2024-06-26T07:55:11.485582Z",
     "iopub.status.idle": "2024-06-26T07:55:11.489384Z",
     "shell.execute_reply": "2024-06-26T07:55:11.488582Z"
    },
    "papermill": {
     "duration": 0.021135,
     "end_time": "2024-06-26T07:55:11.491247",
     "exception": false,
     "start_time": "2024-06-26T07:55:11.470112",
     "status": "completed"
    },
    "tags": []
   },
   "outputs": [],
   "source": [
    "X = df['review']\n",
    "Y = df['sentiment']"
   ]
  },
  {
   "cell_type": "code",
   "execution_count": 30,
   "id": "967c75c3",
   "metadata": {
    "execution": {
     "iopub.execute_input": "2024-06-26T07:55:11.521761Z",
     "iopub.status.busy": "2024-06-26T07:55:11.521501Z",
     "iopub.status.idle": "2024-06-26T07:55:19.084809Z",
     "shell.execute_reply": "2024-06-26T07:55:19.084031Z"
    },
    "papermill": {
     "duration": 7.581054,
     "end_time": "2024-06-26T07:55:19.087049",
     "exception": false,
     "start_time": "2024-06-26T07:55:11.505995",
     "status": "completed"
    },
    "tags": []
   },
   "outputs": [],
   "source": [
    "vect = TfidfVectorizer()\n",
    "X = vect.fit_transform(df['review'])"
   ]
  },
  {
   "cell_type": "code",
   "execution_count": 31,
   "id": "8bd39ae3",
   "metadata": {
    "execution": {
     "iopub.execute_input": "2024-06-26T07:55:19.118752Z",
     "iopub.status.busy": "2024-06-26T07:55:19.118451Z",
     "iopub.status.idle": "2024-06-26T07:55:19.123955Z",
     "shell.execute_reply": "2024-06-26T07:55:19.123164Z"
    },
    "papermill": {
     "duration": 0.02325,
     "end_time": "2024-06-26T07:55:19.125833",
     "exception": false,
     "start_time": "2024-06-26T07:55:19.102583",
     "status": "completed"
    },
    "tags": []
   },
   "outputs": [
    {
     "data": {
      "text/plain": [
       "(49582, 221477)"
      ]
     },
     "execution_count": 31,
     "metadata": {},
     "output_type": "execute_result"
    }
   ],
   "source": [
    "X.shape"
   ]
  },
  {
   "cell_type": "code",
   "execution_count": 32,
   "id": "d9d51e70",
   "metadata": {
    "execution": {
     "iopub.execute_input": "2024-06-26T07:55:19.157928Z",
     "iopub.status.busy": "2024-06-26T07:55:19.157315Z",
     "iopub.status.idle": "2024-06-26T07:55:19.187915Z",
     "shell.execute_reply": "2024-06-26T07:55:19.187061Z"
    },
    "papermill": {
     "duration": 0.049763,
     "end_time": "2024-06-26T07:55:19.190533",
     "exception": false,
     "start_time": "2024-06-26T07:55:19.140770",
     "status": "completed"
    },
    "tags": []
   },
   "outputs": [],
   "source": [
    "x_train, x_test, y_train, y_test = train_test_split(X, Y, test_size=0.3, random_state=42)"
   ]
  },
  {
   "cell_type": "code",
   "execution_count": 33,
   "id": "478fb12e",
   "metadata": {
    "execution": {
     "iopub.execute_input": "2024-06-26T07:55:19.223773Z",
     "iopub.status.busy": "2024-06-26T07:55:19.223475Z",
     "iopub.status.idle": "2024-06-26T07:55:19.228593Z",
     "shell.execute_reply": "2024-06-26T07:55:19.227789Z"
    },
    "papermill": {
     "duration": 0.023496,
     "end_time": "2024-06-26T07:55:19.230621",
     "exception": false,
     "start_time": "2024-06-26T07:55:19.207125",
     "status": "completed"
    },
    "tags": []
   },
   "outputs": [
    {
     "name": "stdout",
     "output_type": "stream",
     "text": [
      "Size of x_train:  (34707, 221477)\n",
      "Size of y_train:  (34707,)\n",
      "Size of x_test:  (14875, 221477)\n",
      "Size of y_test:  (14875,)\n"
     ]
    }
   ],
   "source": [
    "print(\"Size of x_train: \", (x_train.shape))\n",
    "print(\"Size of y_train: \", (y_train.shape))\n",
    "print(\"Size of x_test: \", (x_test.shape))\n",
    "print(\"Size of y_test: \", (y_test.shape))"
   ]
  },
  {
   "cell_type": "markdown",
   "id": "464de11a",
   "metadata": {},
   "source": [
    "### Naive bayes"
   ]
  },
  {
   "cell_type": "code",
   "execution_count": 34,
   "id": "1325e49f",
   "metadata": {
    "execution": {
     "iopub.execute_input": "2024-06-26T07:55:19.293550Z",
     "iopub.status.busy": "2024-06-26T07:55:19.293113Z",
     "iopub.status.idle": "2024-06-26T07:55:19.355854Z",
     "shell.execute_reply": "2024-06-26T07:55:19.354892Z"
    },
    "papermill": {
     "duration": 0.082036,
     "end_time": "2024-06-26T07:55:19.358330",
     "exception": false,
     "start_time": "2024-06-26T07:55:19.276294",
     "status": "completed"
    },
    "tags": []
   },
   "outputs": [],
   "source": [
    "nb = MultinomialNB()\n",
    "nb.fit(x_train, y_train)\n",
    "nb_pred = nb.predict(x_test)"
   ]
  },
  {
   "cell_type": "code",
   "execution_count": 35,
   "id": "258117cc",
   "metadata": {},
   "outputs": [
    {
     "name": "stdout",
     "output_type": "stream",
     "text": [
      "Accuracy: 86.38%\n"
     ]
    }
   ],
   "source": [
    "nb_accuracy = accuracy_score(y_test,nb_pred)\n",
    "print(\"Accuracy: {:.2f}%\".format(nb_accuracy*100))"
   ]
  },
  {
   "cell_type": "code",
   "execution_count": 36,
   "id": "4dbcc985",
   "metadata": {
    "execution": {
     "iopub.execute_input": "2024-06-26T07:55:19.390859Z",
     "iopub.status.busy": "2024-06-26T07:55:19.390561Z",
     "iopub.status.idle": "2024-06-26T07:55:19.409561Z",
     "shell.execute_reply": "2024-06-26T07:55:19.408161Z"
    },
    "papermill": {
     "duration": 0.03698,
     "end_time": "2024-06-26T07:55:19.411554",
     "exception": false,
     "start_time": "2024-06-26T07:55:19.374574",
     "status": "completed"
    },
    "tags": []
   },
   "outputs": [
    {
     "name": "stdout",
     "output_type": "stream",
     "text": [
      "[[6454  950]\n",
      " [1076 6395]]\n",
      "              precision    recall  f1-score   support\n",
      "\n",
      "           0       0.86      0.87      0.86      7404\n",
      "           1       0.87      0.86      0.86      7471\n",
      "\n",
      "    accuracy                           0.86     14875\n",
      "   macro avg       0.86      0.86      0.86     14875\n",
      "weighted avg       0.86      0.86      0.86     14875\n",
      "\n"
     ]
    }
   ],
   "source": [
    "print(confusion_matrix(y_test, nb_pred))\n",
    "print(classification_report(y_test, nb_pred))"
   ]
  },
  {
   "cell_type": "markdown",
   "id": "875494fa",
   "metadata": {},
   "source": [
    "### Logistic Regression"
   ]
  },
  {
   "cell_type": "code",
   "execution_count": 37,
   "id": "fe1a1a64",
   "metadata": {},
   "outputs": [],
   "source": [
    "lr = LogisticRegression()\n",
    "lr.fit(x_train,y_train)\n",
    "lr_pred = lr.predict(x_test)"
   ]
  },
  {
   "cell_type": "code",
   "execution_count": 38,
   "id": "4fa889f9",
   "metadata": {},
   "outputs": [
    {
     "name": "stdout",
     "output_type": "stream",
     "text": [
      "Accuracy: 89.38%\n"
     ]
    }
   ],
   "source": [
    "lr_accuracy = accuracy_score(y_test,lr_pred)\n",
    "print(\"Accuracy: {:.2f}%\".format(lr_accuracy*100))"
   ]
  },
  {
   "cell_type": "code",
   "execution_count": 39,
   "id": "d0384e13",
   "metadata": {},
   "outputs": [
    {
     "name": "stdout",
     "output_type": "stream",
     "text": [
      "[[6521  883]\n",
      " [ 696 6775]]\n",
      "              precision    recall  f1-score   support\n",
      "\n",
      "           0       0.90      0.88      0.89      7404\n",
      "           1       0.88      0.91      0.90      7471\n",
      "\n",
      "    accuracy                           0.89     14875\n",
      "   macro avg       0.89      0.89      0.89     14875\n",
      "weighted avg       0.89      0.89      0.89     14875\n",
      "\n"
     ]
    }
   ],
   "source": [
    "print(confusion_matrix(y_test, lr_pred))\n",
    "print(classification_report(y_test, lr_pred))"
   ]
  },
  {
   "cell_type": "markdown",
   "id": "4283071a",
   "metadata": {},
   "source": [
    "### LinearSVC "
   ]
  },
  {
   "cell_type": "code",
   "execution_count": 40,
   "id": "efd312b2",
   "metadata": {},
   "outputs": [],
   "source": [
    "linear_svc = LinearSVC(C=0.5, random_state=42)"
   ]
  },
  {
   "cell_type": "code",
   "execution_count": 41,
   "id": "df3aee74",
   "metadata": {},
   "outputs": [],
   "source": [
    "linear_svc.fit(x_train, y_train)\n",
    "predict = linear_svc.predict(x_test)"
   ]
  },
  {
   "cell_type": "code",
   "execution_count": 42,
   "id": "36564edc",
   "metadata": {},
   "outputs": [
    {
     "name": "stdout",
     "output_type": "stream",
     "text": [
      "Accuracy: 89.85%\n"
     ]
    }
   ],
   "source": [
    "svc_accuracy = accuracy_score(y_test,predict)\n",
    "print(\"Accuracy: {:.2f}%\".format(svc_accuracy*100))"
   ]
  },
  {
   "cell_type": "code",
   "execution_count": 43,
   "id": "490a57db",
   "metadata": {},
   "outputs": [
    {
     "name": "stdout",
     "output_type": "stream",
     "text": [
      "[[6566  838]\n",
      " [ 672 6799]]\n",
      "              precision    recall  f1-score   support\n",
      "\n",
      "           0       0.91      0.89      0.90      7404\n",
      "           1       0.89      0.91      0.90      7471\n",
      "\n",
      "    accuracy                           0.90     14875\n",
      "   macro avg       0.90      0.90      0.90     14875\n",
      "weighted avg       0.90      0.90      0.90     14875\n",
      "\n"
     ]
    }
   ],
   "source": [
    "print(confusion_matrix(y_test, predict))\n",
    "print(classification_report(y_test, predict))"
   ]
  },
  {
   "cell_type": "markdown",
   "id": "6ba75c61",
   "metadata": {},
   "source": [
    "## Comparison"
   ]
  },
  {
   "cell_type": "code",
   "execution_count": 44,
   "id": "b822f5e2",
   "metadata": {},
   "outputs": [
    {
     "data": {
      "image/png": "[encoded data removed]",
      "text/plain": [
       "<Figure size 1000x600 with 1 Axes>"
      ]
     },
     "metadata": {},
     "output_type": "display_data"
    }
   ],
   "source": [
    "model_compare = pd.DataFrame({\n",
    "    \"Naive Bayes\": [nb_accuracy * 100],\n",
    "    \"Logistic Regression\": [lr_accuracy * 100],\n",
    "    \"Linear SVC\": [svc_accuracy * 100],\n",
    "})\n",
    "\n",
    "model_compare = model_compare.T\n",
    "model_compare.columns = [\"Accuracy\"]\n",
    "\n",
    "colors = [\"#1f77b4\", \"#ff7f0e\", \"#2ca02c\", \"#d62728\"]\n",
    "model_compare[\"Accuracy\"].plot.bar(\n",
    "    figsize=(10, 6), color=colors, legend=False\n",
    ")\n",
    "\n",
    "plt.title(\"Model Accuracy Comparison\", fontsize=16)\n",
    "plt.ylabel(\"Accuracy (%)\", fontsize=14)\n",
    "plt.xlabel(\"Models\", fontsize=14)\n",
    "plt.xticks(rotation=0, fontsize=12)\n",
    "plt.yticks(fontsize=12)\n",
    "plt.show()"
   ]
  },
  {
   "cell_type": "markdown",
   "id": "a9342f91",
   "metadata": {},
   "source": [
    "Linear SVC showed better accuracy(89.85%) than Logistic Regression(89.38%) and Naive Bayes(86.38%)"
   ]
  }
 ],
 "metadata": {
  "kaggle": {
   "accelerator": "nvidiaTeslaT4",
   "dataSources": [
    {
     "datasetId": 4815310,
     "sourceId": 8143731,
     "sourceType": "datasetVersion"
    }
   ],
   "dockerImageVersionId": 30734,
   "isGpuEnabled": true,
   "isInternetEnabled": true,
   "language": "python",
   "sourceType": "notebook"
  },
  "kernelspec": {
   "display_name": "Python 3 (ipykernel)",
   "language": "python",
   "name": "python3"
  },
  "language_info": {
   "codemirror_mode": {
    "name": "ipython",
    "version": 3
   },
   "file_extension": ".py",
   "mimetype": "text/x-python",
   "name": "python",
   "nbconvert_exporter": "python",
   "pygments_lexer": "ipython3",
   "version": "3.9.13"
  },
  "papermill": {
   "default_parameters": {},
   "duration": 141.202861,
   "end_time": "2024-06-26T07:55:20.045459",
   "environment_variables": {},
   "exception": null,
   "input_path": "__notebook__.ipynb",
   "output_path": "__notebook__.ipynb",
   "parameters": {},
   "start_time": "2024-06-26T07:52:58.842598",
   "version": "2.5.0"
  }
 },
 "nbformat": 4,
 "nbformat_minor": 5
}
